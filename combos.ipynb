{
  "metadata": {
    "kernelspec": {
      "name": "python",
      "display_name": "Python (Pyodide)",
      "language": "python"
    },
    "language_info": {
      "codemirror_mode": {
        "name": "python",
        "version": 3
      },
      "file_extension": ".py",
      "mimetype": "text/x-python",
      "name": "python",
      "nbconvert_exporter": "python",
      "pygments_lexer": "ipython3",
      "version": "3.8"
    }
  },
  "nbformat_minor": 5,
  "nbformat": 4,
  "cells": [
    {
      "cell_type": "code",
      "source": "import math\n\ndef num_combo(num_total: int, num_choose: int) -> int:\n    \"\"\"\n    Calculates the number of combos.\n    \n    \n    nCr = n! / (r! * (n - r)!)\n    where\n    nCr is the number of combinations\n    n is the total number of objects\n    r is the number of objects chosen\n    \n    1 / nCr is the probability of getting a specific combo\n    \"\"\"\n    \n    return (math.factorial(num_total) / (math.factorial(num_choose) * (math.factorial(num_total - num_choose))))\n\n\n\"\"\"\nThe number of combinations for drawing 5 cards out of a 21 card deck is 21C5 or num_combo(21, 5)\n\nThe number of combinations for drawing 2 specific cards from the 21 card deck (with a 5 card draw) is 19C3 or num_combo(19, 3)\n\nThe probabilty of drawing 2 specific cards from the 21 card deck is 19C3 / 21C5\n\"\"\"\n\nnum_combo(19, 3) / num_combo(21, 5)\n    \n    \n    ",
      "metadata": {
        "trusted": true
      },
      "execution_count": 3,
      "outputs": [
        {
          "execution_count": 3,
          "output_type": "execute_result",
          "data": {
            "text/plain": "0.047619047619047616"
          },
          "metadata": {}
        }
      ],
      "id": "c5057d2e-54b6-477b-afdd-856b5dc13896"
    },
    {
      "cell_type": "code",
      "source": "",
      "metadata": {},
      "execution_count": null,
      "outputs": [],
      "id": "fe6c5f6a-a6d8-418d-b78f-2927d44ff8c4"
    }
  ]
}